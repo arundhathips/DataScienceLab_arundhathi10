{
  "nbformat": 4,
  "nbformat_minor": 0,
  "metadata": {
    "colab": {
      "name": "ARUNDHATHI_23_11_21",
      "provenance": [],
      "collapsed_sections": [],
      "include_colab_link": true
    },
    "kernelspec": {
      "name": "python3",
      "display_name": "Python 3"
    }
  },
  "cells": [
    {
      "cell_type": "markdown",
      "metadata": {
        "id": "view-in-github",
        "colab_type": "text"
      },
      "source": [
        "<a href=\"https://colab.research.google.com/github/arundhathips/DataScienceLab_arundhathi10/blob/main/ARUNDHATHI_23_11_21.ipynb\" target=\"_parent\"><img src=\"https://colab.research.google.com/assets/colab-badge.svg\" alt=\"Open In Colab\"/></a>"
      ]
    },
    {
      "cell_type": "markdown",
      "metadata": {
        "id": "ep3Ra2iLqQDG"
      },
      "source": [
        "# Hunting Exoplanets In Space - Scatter & Line Plots"
      ]
    },
    {
      "cell_type": "code",
      "metadata": {
        "colab": {
          "base_uri": "https://localhost:8080/"
        },
        "id": "4WXs9Cqiug9i",
        "outputId": "b4673fb7-e736-4042-dade-c2e132cc9285"
      },
      "source": [
        "from google.colab import drive\n",
        "drive.mount('/content/drive')"
      ],
      "execution_count": null,
      "outputs": [
        {
          "output_type": "stream",
          "name": "stdout",
          "text": [
            "Mounted at /content/drive\n"
          ]
        }
      ]
    },
    {
      "cell_type": "code",
      "metadata": {
        "id": "zjScdqmQstFg",
        "colab": {
          "base_uri": "https://localhost:8080/",
          "height": 255
        },
        "outputId": "6e1422f1-35dd-488d-acc5-0c36c4a9c78f"
      },
      "source": [
        "# Load the training dataset.\n",
        "import pandas as pd\n",
        "df=pd.read_csv('/content/drive/MyDrive/exoTrain.csv')\n",
        "df.head()"
      ],
      "execution_count": null,
      "outputs": [
        {
          "output_type": "execute_result",
          "data": {
            "text/html": [
              "<div>\n",
              "<style scoped>\n",
              "    .dataframe tbody tr th:only-of-type {\n",
              "        vertical-align: middle;\n",
              "    }\n",
              "\n",
              "    .dataframe tbody tr th {\n",
              "        vertical-align: top;\n",
              "    }\n",
              "\n",
              "    .dataframe thead th {\n",
              "        text-align: right;\n",
              "    }\n",
              "</style>\n",
              "<table border=\"1\" class=\"dataframe\">\n",
              "  <thead>\n",
              "    <tr style=\"text-align: right;\">\n",
              "      <th></th>\n",
              "      <th>LABEL</th>\n",
              "      <th>FLUX.1</th>\n",
              "      <th>FLUX.2</th>\n",
              "      <th>FLUX.3</th>\n",
              "      <th>FLUX.4</th>\n",
              "      <th>FLUX.5</th>\n",
              "      <th>FLUX.6</th>\n",
              "      <th>FLUX.7</th>\n",
              "      <th>FLUX.8</th>\n",
              "      <th>FLUX.9</th>\n",
              "      <th>FLUX.10</th>\n",
              "      <th>FLUX.11</th>\n",
              "      <th>FLUX.12</th>\n",
              "      <th>FLUX.13</th>\n",
              "      <th>FLUX.14</th>\n",
              "      <th>FLUX.15</th>\n",
              "      <th>FLUX.16</th>\n",
              "      <th>FLUX.17</th>\n",
              "      <th>FLUX.18</th>\n",
              "      <th>FLUX.19</th>\n",
              "      <th>FLUX.20</th>\n",
              "      <th>FLUX.21</th>\n",
              "      <th>FLUX.22</th>\n",
              "      <th>FLUX.23</th>\n",
              "      <th>FLUX.24</th>\n",
              "      <th>FLUX.25</th>\n",
              "      <th>FLUX.26</th>\n",
              "      <th>FLUX.27</th>\n",
              "      <th>FLUX.28</th>\n",
              "      <th>FLUX.29</th>\n",
              "      <th>FLUX.30</th>\n",
              "      <th>FLUX.31</th>\n",
              "      <th>FLUX.32</th>\n",
              "      <th>FLUX.33</th>\n",
              "      <th>FLUX.34</th>\n",
              "      <th>FLUX.35</th>\n",
              "      <th>FLUX.36</th>\n",
              "      <th>FLUX.37</th>\n",
              "      <th>FLUX.38</th>\n",
              "      <th>FLUX.39</th>\n",
              "      <th>...</th>\n",
              "      <th>FLUX.3158</th>\n",
              "      <th>FLUX.3159</th>\n",
              "      <th>FLUX.3160</th>\n",
              "      <th>FLUX.3161</th>\n",
              "      <th>FLUX.3162</th>\n",
              "      <th>FLUX.3163</th>\n",
              "      <th>FLUX.3164</th>\n",
              "      <th>FLUX.3165</th>\n",
              "      <th>FLUX.3166</th>\n",
              "      <th>FLUX.3167</th>\n",
              "      <th>FLUX.3168</th>\n",
              "      <th>FLUX.3169</th>\n",
              "      <th>FLUX.3170</th>\n",
              "      <th>FLUX.3171</th>\n",
              "      <th>FLUX.3172</th>\n",
              "      <th>FLUX.3173</th>\n",
              "      <th>FLUX.3174</th>\n",
              "      <th>FLUX.3175</th>\n",
              "      <th>FLUX.3176</th>\n",
              "      <th>FLUX.3177</th>\n",
              "      <th>FLUX.3178</th>\n",
              "      <th>FLUX.3179</th>\n",
              "      <th>FLUX.3180</th>\n",
              "      <th>FLUX.3181</th>\n",
              "      <th>FLUX.3182</th>\n",
              "      <th>FLUX.3183</th>\n",
              "      <th>FLUX.3184</th>\n",
              "      <th>FLUX.3185</th>\n",
              "      <th>FLUX.3186</th>\n",
              "      <th>FLUX.3187</th>\n",
              "      <th>FLUX.3188</th>\n",
              "      <th>FLUX.3189</th>\n",
              "      <th>FLUX.3190</th>\n",
              "      <th>FLUX.3191</th>\n",
              "      <th>FLUX.3192</th>\n",
              "      <th>FLUX.3193</th>\n",
              "      <th>FLUX.3194</th>\n",
              "      <th>FLUX.3195</th>\n",
              "      <th>FLUX.3196</th>\n",
              "      <th>FLUX.3197</th>\n",
              "    </tr>\n",
              "  </thead>\n",
              "  <tbody>\n",
              "    <tr>\n",
              "      <th>0</th>\n",
              "      <td>2</td>\n",
              "      <td>93.85</td>\n",
              "      <td>83.81</td>\n",
              "      <td>20.10</td>\n",
              "      <td>-26.98</td>\n",
              "      <td>-39.56</td>\n",
              "      <td>-124.71</td>\n",
              "      <td>-135.18</td>\n",
              "      <td>-96.27</td>\n",
              "      <td>-79.89</td>\n",
              "      <td>-160.17</td>\n",
              "      <td>-207.47</td>\n",
              "      <td>-154.88</td>\n",
              "      <td>-173.71</td>\n",
              "      <td>-146.56</td>\n",
              "      <td>-120.26</td>\n",
              "      <td>-102.85</td>\n",
              "      <td>-98.71</td>\n",
              "      <td>-48.42</td>\n",
              "      <td>-86.57</td>\n",
              "      <td>-0.84</td>\n",
              "      <td>-25.85</td>\n",
              "      <td>-67.39</td>\n",
              "      <td>-36.55</td>\n",
              "      <td>-87.01</td>\n",
              "      <td>-97.72</td>\n",
              "      <td>-131.59</td>\n",
              "      <td>-134.80</td>\n",
              "      <td>-186.97</td>\n",
              "      <td>-244.32</td>\n",
              "      <td>-225.76</td>\n",
              "      <td>-229.60</td>\n",
              "      <td>-253.48</td>\n",
              "      <td>-145.74</td>\n",
              "      <td>-145.74</td>\n",
              "      <td>30.47</td>\n",
              "      <td>-173.39</td>\n",
              "      <td>-187.56</td>\n",
              "      <td>-192.88</td>\n",
              "      <td>-182.76</td>\n",
              "      <td>...</td>\n",
              "      <td>-167.69</td>\n",
              "      <td>-56.86</td>\n",
              "      <td>7.56</td>\n",
              "      <td>37.40</td>\n",
              "      <td>-81.13</td>\n",
              "      <td>-20.10</td>\n",
              "      <td>-30.34</td>\n",
              "      <td>-320.48</td>\n",
              "      <td>-320.48</td>\n",
              "      <td>-287.72</td>\n",
              "      <td>-351.25</td>\n",
              "      <td>-70.07</td>\n",
              "      <td>-194.34</td>\n",
              "      <td>-106.47</td>\n",
              "      <td>-14.80</td>\n",
              "      <td>63.13</td>\n",
              "      <td>130.03</td>\n",
              "      <td>76.43</td>\n",
              "      <td>131.90</td>\n",
              "      <td>-193.16</td>\n",
              "      <td>-193.16</td>\n",
              "      <td>-89.26</td>\n",
              "      <td>-17.56</td>\n",
              "      <td>-17.31</td>\n",
              "      <td>125.62</td>\n",
              "      <td>68.87</td>\n",
              "      <td>100.01</td>\n",
              "      <td>-9.60</td>\n",
              "      <td>-25.39</td>\n",
              "      <td>-16.51</td>\n",
              "      <td>-78.07</td>\n",
              "      <td>-102.15</td>\n",
              "      <td>-102.15</td>\n",
              "      <td>25.13</td>\n",
              "      <td>48.57</td>\n",
              "      <td>92.54</td>\n",
              "      <td>39.32</td>\n",
              "      <td>61.42</td>\n",
              "      <td>5.08</td>\n",
              "      <td>-39.54</td>\n",
              "    </tr>\n",
              "    <tr>\n",
              "      <th>1</th>\n",
              "      <td>2</td>\n",
              "      <td>-38.88</td>\n",
              "      <td>-33.83</td>\n",
              "      <td>-58.54</td>\n",
              "      <td>-40.09</td>\n",
              "      <td>-79.31</td>\n",
              "      <td>-72.81</td>\n",
              "      <td>-86.55</td>\n",
              "      <td>-85.33</td>\n",
              "      <td>-83.97</td>\n",
              "      <td>-73.38</td>\n",
              "      <td>-86.51</td>\n",
              "      <td>-74.97</td>\n",
              "      <td>-73.15</td>\n",
              "      <td>-86.13</td>\n",
              "      <td>-76.57</td>\n",
              "      <td>-61.27</td>\n",
              "      <td>-37.23</td>\n",
              "      <td>-48.53</td>\n",
              "      <td>-30.96</td>\n",
              "      <td>-8.14</td>\n",
              "      <td>-5.54</td>\n",
              "      <td>15.79</td>\n",
              "      <td>45.71</td>\n",
              "      <td>10.61</td>\n",
              "      <td>40.66</td>\n",
              "      <td>16.70</td>\n",
              "      <td>15.18</td>\n",
              "      <td>11.98</td>\n",
              "      <td>-203.70</td>\n",
              "      <td>19.13</td>\n",
              "      <td>19.13</td>\n",
              "      <td>19.13</td>\n",
              "      <td>19.13</td>\n",
              "      <td>19.13</td>\n",
              "      <td>17.02</td>\n",
              "      <td>-8.50</td>\n",
              "      <td>-13.87</td>\n",
              "      <td>-29.10</td>\n",
              "      <td>-34.29</td>\n",
              "      <td>...</td>\n",
              "      <td>-36.75</td>\n",
              "      <td>-15.49</td>\n",
              "      <td>-13.24</td>\n",
              "      <td>20.46</td>\n",
              "      <td>-1.47</td>\n",
              "      <td>-0.40</td>\n",
              "      <td>27.80</td>\n",
              "      <td>-58.20</td>\n",
              "      <td>-58.20</td>\n",
              "      <td>-72.04</td>\n",
              "      <td>-58.01</td>\n",
              "      <td>-30.92</td>\n",
              "      <td>-13.42</td>\n",
              "      <td>-13.98</td>\n",
              "      <td>-5.43</td>\n",
              "      <td>8.71</td>\n",
              "      <td>1.80</td>\n",
              "      <td>36.59</td>\n",
              "      <td>-9.80</td>\n",
              "      <td>-19.53</td>\n",
              "      <td>-19.53</td>\n",
              "      <td>-24.32</td>\n",
              "      <td>-23.88</td>\n",
              "      <td>-33.07</td>\n",
              "      <td>-9.03</td>\n",
              "      <td>3.75</td>\n",
              "      <td>11.61</td>\n",
              "      <td>-12.66</td>\n",
              "      <td>-5.69</td>\n",
              "      <td>12.53</td>\n",
              "      <td>-3.28</td>\n",
              "      <td>-32.21</td>\n",
              "      <td>-32.21</td>\n",
              "      <td>-24.89</td>\n",
              "      <td>-4.86</td>\n",
              "      <td>0.76</td>\n",
              "      <td>-11.70</td>\n",
              "      <td>6.46</td>\n",
              "      <td>16.00</td>\n",
              "      <td>19.93</td>\n",
              "    </tr>\n",
              "    <tr>\n",
              "      <th>2</th>\n",
              "      <td>2</td>\n",
              "      <td>532.64</td>\n",
              "      <td>535.92</td>\n",
              "      <td>513.73</td>\n",
              "      <td>496.92</td>\n",
              "      <td>456.45</td>\n",
              "      <td>466.00</td>\n",
              "      <td>464.50</td>\n",
              "      <td>486.39</td>\n",
              "      <td>436.56</td>\n",
              "      <td>484.39</td>\n",
              "      <td>469.66</td>\n",
              "      <td>462.30</td>\n",
              "      <td>492.23</td>\n",
              "      <td>441.20</td>\n",
              "      <td>483.17</td>\n",
              "      <td>481.28</td>\n",
              "      <td>535.31</td>\n",
              "      <td>554.34</td>\n",
              "      <td>562.80</td>\n",
              "      <td>540.14</td>\n",
              "      <td>576.34</td>\n",
              "      <td>551.67</td>\n",
              "      <td>556.69</td>\n",
              "      <td>550.86</td>\n",
              "      <td>577.33</td>\n",
              "      <td>562.08</td>\n",
              "      <td>577.97</td>\n",
              "      <td>530.67</td>\n",
              "      <td>553.27</td>\n",
              "      <td>538.33</td>\n",
              "      <td>527.17</td>\n",
              "      <td>532.50</td>\n",
              "      <td>273.66</td>\n",
              "      <td>273.66</td>\n",
              "      <td>292.39</td>\n",
              "      <td>298.44</td>\n",
              "      <td>252.64</td>\n",
              "      <td>233.58</td>\n",
              "      <td>171.41</td>\n",
              "      <td>...</td>\n",
              "      <td>-51.09</td>\n",
              "      <td>-33.30</td>\n",
              "      <td>-61.53</td>\n",
              "      <td>-89.61</td>\n",
              "      <td>-69.17</td>\n",
              "      <td>-86.47</td>\n",
              "      <td>-140.91</td>\n",
              "      <td>-84.20</td>\n",
              "      <td>-84.20</td>\n",
              "      <td>-89.09</td>\n",
              "      <td>-55.44</td>\n",
              "      <td>-61.05</td>\n",
              "      <td>-29.17</td>\n",
              "      <td>-63.80</td>\n",
              "      <td>-57.61</td>\n",
              "      <td>2.70</td>\n",
              "      <td>-31.25</td>\n",
              "      <td>-47.09</td>\n",
              "      <td>-6.53</td>\n",
              "      <td>14.00</td>\n",
              "      <td>14.00</td>\n",
              "      <td>-25.05</td>\n",
              "      <td>-34.98</td>\n",
              "      <td>-32.08</td>\n",
              "      <td>-17.06</td>\n",
              "      <td>-27.77</td>\n",
              "      <td>7.86</td>\n",
              "      <td>-70.77</td>\n",
              "      <td>-64.44</td>\n",
              "      <td>-83.83</td>\n",
              "      <td>-71.69</td>\n",
              "      <td>13.31</td>\n",
              "      <td>13.31</td>\n",
              "      <td>-29.89</td>\n",
              "      <td>-20.88</td>\n",
              "      <td>5.06</td>\n",
              "      <td>-11.80</td>\n",
              "      <td>-28.91</td>\n",
              "      <td>-70.02</td>\n",
              "      <td>-96.67</td>\n",
              "    </tr>\n",
              "    <tr>\n",
              "      <th>3</th>\n",
              "      <td>2</td>\n",
              "      <td>326.52</td>\n",
              "      <td>347.39</td>\n",
              "      <td>302.35</td>\n",
              "      <td>298.13</td>\n",
              "      <td>317.74</td>\n",
              "      <td>312.70</td>\n",
              "      <td>322.33</td>\n",
              "      <td>311.31</td>\n",
              "      <td>312.42</td>\n",
              "      <td>323.33</td>\n",
              "      <td>311.14</td>\n",
              "      <td>326.19</td>\n",
              "      <td>313.11</td>\n",
              "      <td>313.89</td>\n",
              "      <td>317.96</td>\n",
              "      <td>330.92</td>\n",
              "      <td>341.10</td>\n",
              "      <td>360.58</td>\n",
              "      <td>370.29</td>\n",
              "      <td>369.71</td>\n",
              "      <td>339.00</td>\n",
              "      <td>336.24</td>\n",
              "      <td>319.31</td>\n",
              "      <td>321.56</td>\n",
              "      <td>308.02</td>\n",
              "      <td>296.82</td>\n",
              "      <td>279.34</td>\n",
              "      <td>275.78</td>\n",
              "      <td>289.67</td>\n",
              "      <td>281.33</td>\n",
              "      <td>285.37</td>\n",
              "      <td>281.87</td>\n",
              "      <td>88.75</td>\n",
              "      <td>88.75</td>\n",
              "      <td>67.71</td>\n",
              "      <td>74.46</td>\n",
              "      <td>69.34</td>\n",
              "      <td>76.51</td>\n",
              "      <td>80.26</td>\n",
              "      <td>...</td>\n",
              "      <td>-2.75</td>\n",
              "      <td>14.29</td>\n",
              "      <td>-14.18</td>\n",
              "      <td>-25.14</td>\n",
              "      <td>-13.43</td>\n",
              "      <td>-14.74</td>\n",
              "      <td>2.24</td>\n",
              "      <td>-31.07</td>\n",
              "      <td>-31.07</td>\n",
              "      <td>-50.27</td>\n",
              "      <td>-39.22</td>\n",
              "      <td>-51.33</td>\n",
              "      <td>-18.53</td>\n",
              "      <td>-1.99</td>\n",
              "      <td>10.43</td>\n",
              "      <td>-1.97</td>\n",
              "      <td>-15.32</td>\n",
              "      <td>-23.38</td>\n",
              "      <td>-27.71</td>\n",
              "      <td>-36.12</td>\n",
              "      <td>-36.12</td>\n",
              "      <td>-15.65</td>\n",
              "      <td>6.63</td>\n",
              "      <td>10.66</td>\n",
              "      <td>-8.57</td>\n",
              "      <td>-8.29</td>\n",
              "      <td>-21.90</td>\n",
              "      <td>-25.80</td>\n",
              "      <td>-29.86</td>\n",
              "      <td>7.42</td>\n",
              "      <td>5.71</td>\n",
              "      <td>-3.73</td>\n",
              "      <td>-3.73</td>\n",
              "      <td>30.05</td>\n",
              "      <td>20.03</td>\n",
              "      <td>-12.67</td>\n",
              "      <td>-8.77</td>\n",
              "      <td>-17.31</td>\n",
              "      <td>-17.35</td>\n",
              "      <td>13.98</td>\n",
              "    </tr>\n",
              "    <tr>\n",
              "      <th>4</th>\n",
              "      <td>2</td>\n",
              "      <td>-1107.21</td>\n",
              "      <td>-1112.59</td>\n",
              "      <td>-1118.95</td>\n",
              "      <td>-1095.10</td>\n",
              "      <td>-1057.55</td>\n",
              "      <td>-1034.48</td>\n",
              "      <td>-998.34</td>\n",
              "      <td>-1022.71</td>\n",
              "      <td>-989.57</td>\n",
              "      <td>-970.88</td>\n",
              "      <td>-933.30</td>\n",
              "      <td>-889.49</td>\n",
              "      <td>-888.66</td>\n",
              "      <td>-853.95</td>\n",
              "      <td>-800.91</td>\n",
              "      <td>-754.48</td>\n",
              "      <td>-717.24</td>\n",
              "      <td>-649.34</td>\n",
              "      <td>-605.71</td>\n",
              "      <td>-575.62</td>\n",
              "      <td>-526.37</td>\n",
              "      <td>-490.12</td>\n",
              "      <td>-458.73</td>\n",
              "      <td>-447.76</td>\n",
              "      <td>-419.54</td>\n",
              "      <td>-410.76</td>\n",
              "      <td>-404.10</td>\n",
              "      <td>-425.38</td>\n",
              "      <td>-397.29</td>\n",
              "      <td>-412.73</td>\n",
              "      <td>-446.49</td>\n",
              "      <td>-413.46</td>\n",
              "      <td>-1006.21</td>\n",
              "      <td>-1006.21</td>\n",
              "      <td>-973.29</td>\n",
              "      <td>-986.01</td>\n",
              "      <td>-975.88</td>\n",
              "      <td>-982.20</td>\n",
              "      <td>-953.73</td>\n",
              "      <td>...</td>\n",
              "      <td>-694.76</td>\n",
              "      <td>-705.01</td>\n",
              "      <td>-625.24</td>\n",
              "      <td>-604.16</td>\n",
              "      <td>-668.26</td>\n",
              "      <td>-742.18</td>\n",
              "      <td>-820.55</td>\n",
              "      <td>-874.76</td>\n",
              "      <td>-874.76</td>\n",
              "      <td>-853.68</td>\n",
              "      <td>-808.62</td>\n",
              "      <td>-777.88</td>\n",
              "      <td>-712.62</td>\n",
              "      <td>-694.01</td>\n",
              "      <td>-655.74</td>\n",
              "      <td>-599.74</td>\n",
              "      <td>-617.30</td>\n",
              "      <td>-602.98</td>\n",
              "      <td>-539.29</td>\n",
              "      <td>-672.71</td>\n",
              "      <td>-672.71</td>\n",
              "      <td>-594.49</td>\n",
              "      <td>-597.60</td>\n",
              "      <td>-560.77</td>\n",
              "      <td>-501.95</td>\n",
              "      <td>-461.62</td>\n",
              "      <td>-468.59</td>\n",
              "      <td>-513.24</td>\n",
              "      <td>-504.70</td>\n",
              "      <td>-521.95</td>\n",
              "      <td>-594.37</td>\n",
              "      <td>-401.66</td>\n",
              "      <td>-401.66</td>\n",
              "      <td>-357.24</td>\n",
              "      <td>-443.76</td>\n",
              "      <td>-438.54</td>\n",
              "      <td>-399.71</td>\n",
              "      <td>-384.65</td>\n",
              "      <td>-411.79</td>\n",
              "      <td>-510.54</td>\n",
              "    </tr>\n",
              "  </tbody>\n",
              "</table>\n",
              "<p>5 rows × 3198 columns</p>\n",
              "</div>"
            ],
            "text/plain": [
              "   LABEL   FLUX.1   FLUX.2   FLUX.3  ...  FLUX.3194  FLUX.3195  FLUX.3196  FLUX.3197\n",
              "0      2    93.85    83.81    20.10  ...      39.32      61.42       5.08     -39.54\n",
              "1      2   -38.88   -33.83   -58.54  ...     -11.70       6.46      16.00      19.93\n",
              "2      2   532.64   535.92   513.73  ...     -11.80     -28.91     -70.02     -96.67\n",
              "3      2   326.52   347.39   302.35  ...      -8.77     -17.31     -17.35      13.98\n",
              "4      2 -1107.21 -1112.59 -1118.95  ...    -399.71    -384.65    -411.79    -510.54\n",
              "\n",
              "[5 rows x 3198 columns]"
            ]
          },
          "metadata": {},
          "execution_count": 4
        }
      ]
    },
    {
      "cell_type": "code",
      "metadata": {
        "id": "K_j7gRieWL-v",
        "colab": {
          "base_uri": "https://localhost:8080/",
          "height": 349
        },
        "outputId": "e24638b8-8052-4ef0-afb1-2e7773ee9f56"
      },
      "source": [
        "# Display Statistical information of the train dataset\n",
        "df.describe()"
      ],
      "execution_count": null,
      "outputs": [
        {
          "output_type": "execute_result",
          "data": {
            "text/html": [
              "<div>\n",
              "<style scoped>\n",
              "    .dataframe tbody tr th:only-of-type {\n",
              "        vertical-align: middle;\n",
              "    }\n",
              "\n",
              "    .dataframe tbody tr th {\n",
              "        vertical-align: top;\n",
              "    }\n",
              "\n",
              "    .dataframe thead th {\n",
              "        text-align: right;\n",
              "    }\n",
              "</style>\n",
              "<table border=\"1\" class=\"dataframe\">\n",
              "  <thead>\n",
              "    <tr style=\"text-align: right;\">\n",
              "      <th></th>\n",
              "      <th>LABEL</th>\n",
              "      <th>FLUX.1</th>\n",
              "      <th>FLUX.2</th>\n",
              "      <th>FLUX.3</th>\n",
              "      <th>FLUX.4</th>\n",
              "      <th>FLUX.5</th>\n",
              "      <th>FLUX.6</th>\n",
              "      <th>FLUX.7</th>\n",
              "      <th>FLUX.8</th>\n",
              "      <th>FLUX.9</th>\n",
              "      <th>FLUX.10</th>\n",
              "      <th>FLUX.11</th>\n",
              "      <th>FLUX.12</th>\n",
              "      <th>FLUX.13</th>\n",
              "      <th>FLUX.14</th>\n",
              "      <th>FLUX.15</th>\n",
              "      <th>FLUX.16</th>\n",
              "      <th>FLUX.17</th>\n",
              "      <th>FLUX.18</th>\n",
              "      <th>FLUX.19</th>\n",
              "      <th>FLUX.20</th>\n",
              "      <th>FLUX.21</th>\n",
              "      <th>FLUX.22</th>\n",
              "      <th>FLUX.23</th>\n",
              "      <th>FLUX.24</th>\n",
              "      <th>FLUX.25</th>\n",
              "      <th>FLUX.26</th>\n",
              "      <th>FLUX.27</th>\n",
              "      <th>FLUX.28</th>\n",
              "      <th>FLUX.29</th>\n",
              "      <th>FLUX.30</th>\n",
              "      <th>FLUX.31</th>\n",
              "      <th>FLUX.32</th>\n",
              "      <th>FLUX.33</th>\n",
              "      <th>FLUX.34</th>\n",
              "      <th>FLUX.35</th>\n",
              "      <th>FLUX.36</th>\n",
              "      <th>FLUX.37</th>\n",
              "      <th>FLUX.38</th>\n",
              "      <th>FLUX.39</th>\n",
              "      <th>...</th>\n",
              "      <th>FLUX.3158</th>\n",
              "      <th>FLUX.3159</th>\n",
              "      <th>FLUX.3160</th>\n",
              "      <th>FLUX.3161</th>\n",
              "      <th>FLUX.3162</th>\n",
              "      <th>FLUX.3163</th>\n",
              "      <th>FLUX.3164</th>\n",
              "      <th>FLUX.3165</th>\n",
              "      <th>FLUX.3166</th>\n",
              "      <th>FLUX.3167</th>\n",
              "      <th>FLUX.3168</th>\n",
              "      <th>FLUX.3169</th>\n",
              "      <th>FLUX.3170</th>\n",
              "      <th>FLUX.3171</th>\n",
              "      <th>FLUX.3172</th>\n",
              "      <th>FLUX.3173</th>\n",
              "      <th>FLUX.3174</th>\n",
              "      <th>FLUX.3175</th>\n",
              "      <th>FLUX.3176</th>\n",
              "      <th>FLUX.3177</th>\n",
              "      <th>FLUX.3178</th>\n",
              "      <th>FLUX.3179</th>\n",
              "      <th>FLUX.3180</th>\n",
              "      <th>FLUX.3181</th>\n",
              "      <th>FLUX.3182</th>\n",
              "      <th>FLUX.3183</th>\n",
              "      <th>FLUX.3184</th>\n",
              "      <th>FLUX.3185</th>\n",
              "      <th>FLUX.3186</th>\n",
              "      <th>FLUX.3187</th>\n",
              "      <th>FLUX.3188</th>\n",
              "      <th>FLUX.3189</th>\n",
              "      <th>FLUX.3190</th>\n",
              "      <th>FLUX.3191</th>\n",
              "      <th>FLUX.3192</th>\n",
              "      <th>FLUX.3193</th>\n",
              "      <th>FLUX.3194</th>\n",
              "      <th>FLUX.3195</th>\n",
              "      <th>FLUX.3196</th>\n",
              "      <th>FLUX.3197</th>\n",
              "    </tr>\n",
              "  </thead>\n",
              "  <tbody>\n",
              "    <tr>\n",
              "      <th>count</th>\n",
              "      <td>5087.000000</td>\n",
              "      <td>5.087000e+03</td>\n",
              "      <td>5.087000e+03</td>\n",
              "      <td>5.087000e+03</td>\n",
              "      <td>5.087000e+03</td>\n",
              "      <td>5.087000e+03</td>\n",
              "      <td>5.087000e+03</td>\n",
              "      <td>5.087000e+03</td>\n",
              "      <td>5.087000e+03</td>\n",
              "      <td>5.087000e+03</td>\n",
              "      <td>5.087000e+03</td>\n",
              "      <td>5.087000e+03</td>\n",
              "      <td>5.087000e+03</td>\n",
              "      <td>5.087000e+03</td>\n",
              "      <td>5087.000000</td>\n",
              "      <td>5087.000000</td>\n",
              "      <td>5087.000000</td>\n",
              "      <td>5087.00000</td>\n",
              "      <td>5087.000000</td>\n",
              "      <td>5087.000000</td>\n",
              "      <td>5087.000000</td>\n",
              "      <td>5087.000000</td>\n",
              "      <td>5087.000000</td>\n",
              "      <td>5087.000000</td>\n",
              "      <td>5087.000000</td>\n",
              "      <td>5087.000000</td>\n",
              "      <td>5087.000000</td>\n",
              "      <td>5.087000e+03</td>\n",
              "      <td>5.087000e+03</td>\n",
              "      <td>5.087000e+03</td>\n",
              "      <td>5.087000e+03</td>\n",
              "      <td>5.087000e+03</td>\n",
              "      <td>5.087000e+03</td>\n",
              "      <td>5.087000e+03</td>\n",
              "      <td>5.087000e+03</td>\n",
              "      <td>5.087000e+03</td>\n",
              "      <td>5.087000e+03</td>\n",
              "      <td>5.087000e+03</td>\n",
              "      <td>5.087000e+03</td>\n",
              "      <td>5.087000e+03</td>\n",
              "      <td>...</td>\n",
              "      <td>5.087000e+03</td>\n",
              "      <td>5.087000e+03</td>\n",
              "      <td>5.087000e+03</td>\n",
              "      <td>5087.000000</td>\n",
              "      <td>5087.000000</td>\n",
              "      <td>5087.000000</td>\n",
              "      <td>5087.000000</td>\n",
              "      <td>5087.000000</td>\n",
              "      <td>5087.000000</td>\n",
              "      <td>5087.000000</td>\n",
              "      <td>5087.000000</td>\n",
              "      <td>5087.000000</td>\n",
              "      <td>5.087000e+03</td>\n",
              "      <td>5.087000e+03</td>\n",
              "      <td>5087.000000</td>\n",
              "      <td>5087.000000</td>\n",
              "      <td>5087.000000</td>\n",
              "      <td>5087.000000</td>\n",
              "      <td>5087.000000</td>\n",
              "      <td>5087.000000</td>\n",
              "      <td>5087.000000</td>\n",
              "      <td>5087.000000</td>\n",
              "      <td>5087.000000</td>\n",
              "      <td>5087.000000</td>\n",
              "      <td>5087.000000</td>\n",
              "      <td>5087.000000</td>\n",
              "      <td>5087.000000</td>\n",
              "      <td>5087.000000</td>\n",
              "      <td>5087.000000</td>\n",
              "      <td>5087.000000</td>\n",
              "      <td>5.087000e+03</td>\n",
              "      <td>5.087000e+03</td>\n",
              "      <td>5.087000e+03</td>\n",
              "      <td>5.087000e+03</td>\n",
              "      <td>5.087000e+03</td>\n",
              "      <td>5.087000e+03</td>\n",
              "      <td>5087.000000</td>\n",
              "      <td>5087.000000</td>\n",
              "      <td>5087.000000</td>\n",
              "      <td>5087.000000</td>\n",
              "    </tr>\n",
              "    <tr>\n",
              "      <th>mean</th>\n",
              "      <td>1.007273</td>\n",
              "      <td>1.445054e+02</td>\n",
              "      <td>1.285778e+02</td>\n",
              "      <td>1.471348e+02</td>\n",
              "      <td>1.561512e+02</td>\n",
              "      <td>1.561477e+02</td>\n",
              "      <td>1.469646e+02</td>\n",
              "      <td>1.168380e+02</td>\n",
              "      <td>1.144983e+02</td>\n",
              "      <td>1.228639e+02</td>\n",
              "      <td>1.410852e+02</td>\n",
              "      <td>1.124563e+02</td>\n",
              "      <td>1.050821e+02</td>\n",
              "      <td>7.720985e+01</td>\n",
              "      <td>60.143330</td>\n",
              "      <td>17.630999</td>\n",
              "      <td>-54.355089</td>\n",
              "      <td>-103.08460</td>\n",
              "      <td>-144.560114</td>\n",
              "      <td>-113.322037</td>\n",
              "      <td>-68.828616</td>\n",
              "      <td>-32.839733</td>\n",
              "      <td>31.196475</td>\n",
              "      <td>88.517940</td>\n",
              "      <td>175.080436</td>\n",
              "      <td>233.700224</td>\n",
              "      <td>281.801687</td>\n",
              "      <td>4.643881e+02</td>\n",
              "      <td>5.347781e+02</td>\n",
              "      <td>5.686202e+02</td>\n",
              "      <td>5.575065e+02</td>\n",
              "      <td>5.667802e+02</td>\n",
              "      <td>5.469081e+02</td>\n",
              "      <td>1.775987e+02</td>\n",
              "      <td>1.977492e+02</td>\n",
              "      <td>2.291148e+02</td>\n",
              "      <td>2.441020e+02</td>\n",
              "      <td>2.501690e+02</td>\n",
              "      <td>2.613476e+02</td>\n",
              "      <td>2.326228e+02</td>\n",
              "      <td>...</td>\n",
              "      <td>8.001983e+02</td>\n",
              "      <td>8.456118e+02</td>\n",
              "      <td>7.564445e+02</td>\n",
              "      <td>116.982994</td>\n",
              "      <td>158.543973</td>\n",
              "      <td>129.188885</td>\n",
              "      <td>5.817181</td>\n",
              "      <td>-97.778421</td>\n",
              "      <td>-84.500629</td>\n",
              "      <td>-2.522744</td>\n",
              "      <td>125.509414</td>\n",
              "      <td>354.448954</td>\n",
              "      <td>6.254212e+02</td>\n",
              "      <td>8.012768e+02</td>\n",
              "      <td>106.772064</td>\n",
              "      <td>80.353945</td>\n",
              "      <td>12.455127</td>\n",
              "      <td>-94.172579</td>\n",
              "      <td>-181.646112</td>\n",
              "      <td>-320.240619</td>\n",
              "      <td>-358.358437</td>\n",
              "      <td>-323.468262</td>\n",
              "      <td>-281.609027</td>\n",
              "      <td>-213.522064</td>\n",
              "      <td>-107.086774</td>\n",
              "      <td>-110.572898</td>\n",
              "      <td>-71.794968</td>\n",
              "      <td>-31.777614</td>\n",
              "      <td>72.747847</td>\n",
              "      <td>126.815573</td>\n",
              "      <td>3.485578e+02</td>\n",
              "      <td>4.956476e+02</td>\n",
              "      <td>6.711211e+02</td>\n",
              "      <td>7.468790e+02</td>\n",
              "      <td>6.937372e+02</td>\n",
              "      <td>6.553031e+02</td>\n",
              "      <td>-494.784966</td>\n",
              "      <td>-544.594264</td>\n",
              "      <td>-440.239100</td>\n",
              "      <td>-300.536399</td>\n",
              "    </tr>\n",
              "    <tr>\n",
              "      <th>std</th>\n",
              "      <td>0.084982</td>\n",
              "      <td>2.150669e+04</td>\n",
              "      <td>2.179717e+04</td>\n",
              "      <td>2.191309e+04</td>\n",
              "      <td>2.223366e+04</td>\n",
              "      <td>2.308448e+04</td>\n",
              "      <td>2.410567e+04</td>\n",
              "      <td>2.414109e+04</td>\n",
              "      <td>2.290691e+04</td>\n",
              "      <td>2.102681e+04</td>\n",
              "      <td>1.942289e+04</td>\n",
              "      <td>1.832810e+04</td>\n",
              "      <td>1.768321e+04</td>\n",
              "      <td>1.731920e+04</td>\n",
              "      <td>16647.817648</td>\n",
              "      <td>16725.088231</td>\n",
              "      <td>17162.322247</td>\n",
              "      <td>17356.98839</td>\n",
              "      <td>16979.436723</td>\n",
              "      <td>16011.508248</td>\n",
              "      <td>15118.835589</td>\n",
              "      <td>14255.363528</td>\n",
              "      <td>14048.475841</td>\n",
              "      <td>14618.614614</td>\n",
              "      <td>15246.020915</td>\n",
              "      <td>16803.416700</td>\n",
              "      <td>17930.530299</td>\n",
              "      <td>2.523553e+04</td>\n",
              "      <td>2.704750e+04</td>\n",
              "      <td>2.964609e+04</td>\n",
              "      <td>3.315534e+04</td>\n",
              "      <td>3.679672e+04</td>\n",
              "      <td>4.144422e+04</td>\n",
              "      <td>2.071160e+04</td>\n",
              "      <td>2.108089e+04</td>\n",
              "      <td>2.144121e+04</td>\n",
              "      <td>2.175216e+04</td>\n",
              "      <td>2.180420e+04</td>\n",
              "      <td>2.164199e+04</td>\n",
              "      <td>2.132321e+04</td>\n",
              "      <td>...</td>\n",
              "      <td>5.116648e+04</td>\n",
              "      <td>5.829319e+04</td>\n",
              "      <td>5.898207e+04</td>\n",
              "      <td>16075.902775</td>\n",
              "      <td>16263.350901</td>\n",
              "      <td>15613.273881</td>\n",
              "      <td>14397.292446</td>\n",
              "      <td>14887.907167</td>\n",
              "      <td>14466.376116</td>\n",
              "      <td>12079.533421</td>\n",
              "      <td>12455.557157</td>\n",
              "      <td>20116.003038</td>\n",
              "      <td>3.307799e+04</td>\n",
              "      <td>4.613980e+04</td>\n",
              "      <td>15648.242604</td>\n",
              "      <td>15514.533197</td>\n",
              "      <td>14142.137616</td>\n",
              "      <td>13113.457203</td>\n",
              "      <td>13161.476260</td>\n",
              "      <td>14165.866392</td>\n",
              "      <td>15083.632082</td>\n",
              "      <td>14587.243316</td>\n",
              "      <td>13548.583112</td>\n",
              "      <td>11544.505620</td>\n",
              "      <td>10369.103689</td>\n",
              "      <td>10653.997273</td>\n",
              "      <td>10238.433598</td>\n",
              "      <td>10849.383610</td>\n",
              "      <td>16548.155180</td>\n",
              "      <td>20119.224581</td>\n",
              "      <td>2.864786e+04</td>\n",
              "      <td>3.551876e+04</td>\n",
              "      <td>4.349963e+04</td>\n",
              "      <td>4.981375e+04</td>\n",
              "      <td>5.087103e+04</td>\n",
              "      <td>5.339979e+04</td>\n",
              "      <td>17844.469520</td>\n",
              "      <td>17722.339334</td>\n",
              "      <td>16273.406292</td>\n",
              "      <td>14459.795577</td>\n",
              "    </tr>\n",
              "    <tr>\n",
              "      <th>min</th>\n",
              "      <td>1.000000</td>\n",
              "      <td>-2.278563e+05</td>\n",
              "      <td>-3.154408e+05</td>\n",
              "      <td>-2.840018e+05</td>\n",
              "      <td>-2.340069e+05</td>\n",
              "      <td>-4.231956e+05</td>\n",
              "      <td>-5.975521e+05</td>\n",
              "      <td>-6.724046e+05</td>\n",
              "      <td>-5.790136e+05</td>\n",
              "      <td>-3.973882e+05</td>\n",
              "      <td>-2.223300e+05</td>\n",
              "      <td>-2.279016e+05</td>\n",
              "      <td>-2.996757e+05</td>\n",
              "      <td>-4.453612e+05</td>\n",
              "      <td>-557042.690000</td>\n",
              "      <td>-695994.840000</td>\n",
              "      <td>-815633.560000</td>\n",
              "      <td>-880865.85000</td>\n",
              "      <td>-892477.410000</td>\n",
              "      <td>-851507.680000</td>\n",
              "      <td>-778025.050000</td>\n",
              "      <td>-588309.250000</td>\n",
              "      <td>-384489.470000</td>\n",
              "      <td>-284614.630000</td>\n",
              "      <td>-178528.000000</td>\n",
              "      <td>-196692.000000</td>\n",
              "      <td>-303841.000000</td>\n",
              "      <td>-3.908970e+05</td>\n",
              "      <td>-4.164400e+05</td>\n",
              "      <td>-4.467240e+05</td>\n",
              "      <td>-5.058590e+05</td>\n",
              "      <td>-5.411395e+05</td>\n",
              "      <td>-6.680720e+05</td>\n",
              "      <td>-1.409890e+05</td>\n",
              "      <td>-1.435910e+05</td>\n",
              "      <td>-1.462050e+05</td>\n",
              "      <td>-1.486640e+05</td>\n",
              "      <td>-1.506120e+05</td>\n",
              "      <td>-1.519390e+05</td>\n",
              "      <td>-1.538120e+05</td>\n",
              "      <td>...</td>\n",
              "      <td>-4.277012e+05</td>\n",
              "      <td>-5.949525e+05</td>\n",
              "      <td>-4.697418e+05</td>\n",
              "      <td>-865198.000000</td>\n",
              "      <td>-858306.000000</td>\n",
              "      <td>-828928.000000</td>\n",
              "      <td>-803104.000000</td>\n",
              "      <td>-744362.000000</td>\n",
              "      <td>-666078.000000</td>\n",
              "      <td>-585962.000000</td>\n",
              "      <td>-463660.000000</td>\n",
              "      <td>-377752.000000</td>\n",
              "      <td>-3.151380e+05</td>\n",
              "      <td>-2.924080e+05</td>\n",
              "      <td>-837722.000000</td>\n",
              "      <td>-838948.000000</td>\n",
              "      <td>-825412.000000</td>\n",
              "      <td>-811356.000000</td>\n",
              "      <td>-793102.000000</td>\n",
              "      <td>-764532.000000</td>\n",
              "      <td>-736906.000000</td>\n",
              "      <td>-684930.000000</td>\n",
              "      <td>-635630.000000</td>\n",
              "      <td>-585380.000000</td>\n",
              "      <td>-510132.000000</td>\n",
              "      <td>-548286.000000</td>\n",
              "      <td>-511766.000000</td>\n",
              "      <td>-472450.000000</td>\n",
              "      <td>-420110.000000</td>\n",
              "      <td>-387486.000000</td>\n",
              "      <td>-3.240480e+05</td>\n",
              "      <td>-3.045540e+05</td>\n",
              "      <td>-2.933140e+05</td>\n",
              "      <td>-2.838420e+05</td>\n",
              "      <td>-3.288214e+05</td>\n",
              "      <td>-5.028894e+05</td>\n",
              "      <td>-775322.000000</td>\n",
              "      <td>-732006.000000</td>\n",
              "      <td>-700992.000000</td>\n",
              "      <td>-643170.000000</td>\n",
              "    </tr>\n",
              "    <tr>\n",
              "      <th>25%</th>\n",
              "      <td>1.000000</td>\n",
              "      <td>-4.234000e+01</td>\n",
              "      <td>-3.952000e+01</td>\n",
              "      <td>-3.850500e+01</td>\n",
              "      <td>-3.505000e+01</td>\n",
              "      <td>-3.195500e+01</td>\n",
              "      <td>-3.338000e+01</td>\n",
              "      <td>-2.813000e+01</td>\n",
              "      <td>-2.784000e+01</td>\n",
              "      <td>-2.683500e+01</td>\n",
              "      <td>-2.797500e+01</td>\n",
              "      <td>-2.764500e+01</td>\n",
              "      <td>-2.654500e+01</td>\n",
              "      <td>-2.541000e+01</td>\n",
              "      <td>-27.280000</td>\n",
              "      <td>-25.420000</td>\n",
              "      <td>-25.675000</td>\n",
              "      <td>-23.02500</td>\n",
              "      <td>-23.055000</td>\n",
              "      <td>-23.070000</td>\n",
              "      <td>-22.790000</td>\n",
              "      <td>-22.825000</td>\n",
              "      <td>-23.680000</td>\n",
              "      <td>-25.450000</td>\n",
              "      <td>-27.980000</td>\n",
              "      <td>-29.815000</td>\n",
              "      <td>-28.810000</td>\n",
              "      <td>-3.329500e+01</td>\n",
              "      <td>-3.369500e+01</td>\n",
              "      <td>-3.613500e+01</td>\n",
              "      <td>-3.720500e+01</td>\n",
              "      <td>-3.916500e+01</td>\n",
              "      <td>-3.157000e+01</td>\n",
              "      <td>-2.249000e+01</td>\n",
              "      <td>-2.152500e+01</td>\n",
              "      <td>-2.235000e+01</td>\n",
              "      <td>-2.071500e+01</td>\n",
              "      <td>-2.291500e+01</td>\n",
              "      <td>-1.850000e+01</td>\n",
              "      <td>-1.864500e+01</td>\n",
              "      <td>...</td>\n",
              "      <td>-2.096500e+01</td>\n",
              "      <td>-2.391000e+01</td>\n",
              "      <td>-2.705000e+01</td>\n",
              "      <td>-28.115000</td>\n",
              "      <td>-28.445000</td>\n",
              "      <td>-24.970000</td>\n",
              "      <td>-23.030000</td>\n",
              "      <td>-20.545000</td>\n",
              "      <td>-19.885000</td>\n",
              "      <td>-18.750000</td>\n",
              "      <td>-19.405000</td>\n",
              "      <td>-17.645000</td>\n",
              "      <td>-1.857000e+01</td>\n",
              "      <td>-2.163000e+01</td>\n",
              "      <td>-26.345000</td>\n",
              "      <td>-26.815000</td>\n",
              "      <td>-25.770000</td>\n",
              "      <td>-23.900000</td>\n",
              "      <td>-21.930000</td>\n",
              "      <td>-22.540000</td>\n",
              "      <td>-20.945000</td>\n",
              "      <td>-19.420000</td>\n",
              "      <td>-18.315000</td>\n",
              "      <td>-16.650000</td>\n",
              "      <td>-15.870000</td>\n",
              "      <td>-14.645000</td>\n",
              "      <td>-14.975000</td>\n",
              "      <td>-16.775000</td>\n",
              "      <td>-18.945000</td>\n",
              "      <td>-18.705000</td>\n",
              "      <td>-1.760000e+01</td>\n",
              "      <td>-1.948500e+01</td>\n",
              "      <td>-1.757000e+01</td>\n",
              "      <td>-2.076000e+01</td>\n",
              "      <td>-2.226000e+01</td>\n",
              "      <td>-2.440500e+01</td>\n",
              "      <td>-26.760000</td>\n",
              "      <td>-24.065000</td>\n",
              "      <td>-21.135000</td>\n",
              "      <td>-19.820000</td>\n",
              "    </tr>\n",
              "    <tr>\n",
              "      <th>50%</th>\n",
              "      <td>1.000000</td>\n",
              "      <td>-7.100000e-01</td>\n",
              "      <td>-8.900000e-01</td>\n",
              "      <td>-7.400000e-01</td>\n",
              "      <td>-4.000000e-01</td>\n",
              "      <td>-6.100000e-01</td>\n",
              "      <td>-1.030000e+00</td>\n",
              "      <td>-8.700000e-01</td>\n",
              "      <td>-6.600000e-01</td>\n",
              "      <td>-5.600000e-01</td>\n",
              "      <td>-9.600000e-01</td>\n",
              "      <td>-1.310000e+00</td>\n",
              "      <td>-9.100000e-01</td>\n",
              "      <td>-7.700000e-01</td>\n",
              "      <td>-1.440000</td>\n",
              "      <td>-0.070000</td>\n",
              "      <td>-0.100000</td>\n",
              "      <td>0.52000</td>\n",
              "      <td>1.000000</td>\n",
              "      <td>0.900000</td>\n",
              "      <td>0.650000</td>\n",
              "      <td>0.960000</td>\n",
              "      <td>1.680000</td>\n",
              "      <td>1.470000</td>\n",
              "      <td>0.690000</td>\n",
              "      <td>1.140000</td>\n",
              "      <td>1.150000</td>\n",
              "      <td>1.170000e+00</td>\n",
              "      <td>1.120000e+00</td>\n",
              "      <td>2.120000e+00</td>\n",
              "      <td>1.850000e+00</td>\n",
              "      <td>9.500000e-01</td>\n",
              "      <td>2.310000e+00</td>\n",
              "      <td>2.400000e-01</td>\n",
              "      <td>2.400000e-01</td>\n",
              "      <td>-3.000000e-01</td>\n",
              "      <td>-1.800000e-01</td>\n",
              "      <td>-6.800000e-01</td>\n",
              "      <td>2.600000e-01</td>\n",
              "      <td>-4.400000e-01</td>\n",
              "      <td>...</td>\n",
              "      <td>3.100000e+00</td>\n",
              "      <td>3.460000e+00</td>\n",
              "      <td>3.170000e+00</td>\n",
              "      <td>-1.380000</td>\n",
              "      <td>-1.420000</td>\n",
              "      <td>-1.330000</td>\n",
              "      <td>-1.140000</td>\n",
              "      <td>-0.140000</td>\n",
              "      <td>0.130000</td>\n",
              "      <td>0.720000</td>\n",
              "      <td>0.820000</td>\n",
              "      <td>1.260000</td>\n",
              "      <td>1.710000e+00</td>\n",
              "      <td>2.140000e+00</td>\n",
              "      <td>-0.990000</td>\n",
              "      <td>-0.960000</td>\n",
              "      <td>-1.080000</td>\n",
              "      <td>-0.740000</td>\n",
              "      <td>0.310000</td>\n",
              "      <td>-0.420000</td>\n",
              "      <td>0.220000</td>\n",
              "      <td>0.580000</td>\n",
              "      <td>1.370000</td>\n",
              "      <td>1.400000</td>\n",
              "      <td>1.870000</td>\n",
              "      <td>1.940000</td>\n",
              "      <td>2.390000</td>\n",
              "      <td>2.040000</td>\n",
              "      <td>1.380000</td>\n",
              "      <td>1.870000</td>\n",
              "      <td>2.600000e+00</td>\n",
              "      <td>2.680000e+00</td>\n",
              "      <td>3.050000e+00</td>\n",
              "      <td>3.590000e+00</td>\n",
              "      <td>3.230000e+00</td>\n",
              "      <td>3.500000e+00</td>\n",
              "      <td>-0.680000</td>\n",
              "      <td>0.360000</td>\n",
              "      <td>0.900000</td>\n",
              "      <td>1.430000</td>\n",
              "    </tr>\n",
              "    <tr>\n",
              "      <th>75%</th>\n",
              "      <td>1.000000</td>\n",
              "      <td>4.825500e+01</td>\n",
              "      <td>4.428500e+01</td>\n",
              "      <td>4.232500e+01</td>\n",
              "      <td>3.976500e+01</td>\n",
              "      <td>3.975000e+01</td>\n",
              "      <td>3.514000e+01</td>\n",
              "      <td>3.406000e+01</td>\n",
              "      <td>3.170000e+01</td>\n",
              "      <td>3.045500e+01</td>\n",
              "      <td>2.874500e+01</td>\n",
              "      <td>2.703000e+01</td>\n",
              "      <td>2.867500e+01</td>\n",
              "      <td>2.979500e+01</td>\n",
              "      <td>27.670000</td>\n",
              "      <td>30.665000</td>\n",
              "      <td>29.465000</td>\n",
              "      <td>31.84500</td>\n",
              "      <td>31.550000</td>\n",
              "      <td>32.605000</td>\n",
              "      <td>35.110000</td>\n",
              "      <td>38.135000</td>\n",
              "      <td>38.315000</td>\n",
              "      <td>40.070000</td>\n",
              "      <td>39.455000</td>\n",
              "      <td>40.130000</td>\n",
              "      <td>41.860000</td>\n",
              "      <td>4.371500e+01</td>\n",
              "      <td>4.704000e+01</td>\n",
              "      <td>4.914000e+01</td>\n",
              "      <td>5.144500e+01</td>\n",
              "      <td>4.992500e+01</td>\n",
              "      <td>5.451500e+01</td>\n",
              "      <td>3.811000e+01</td>\n",
              "      <td>3.385000e+01</td>\n",
              "      <td>3.117000e+01</td>\n",
              "      <td>2.815000e+01</td>\n",
              "      <td>2.403500e+01</td>\n",
              "      <td>2.470500e+01</td>\n",
              "      <td>2.131000e+01</td>\n",
              "      <td>...</td>\n",
              "      <td>2.970500e+01</td>\n",
              "      <td>3.269500e+01</td>\n",
              "      <td>3.246000e+01</td>\n",
              "      <td>21.495000</td>\n",
              "      <td>19.440000</td>\n",
              "      <td>17.650000</td>\n",
              "      <td>17.690000</td>\n",
              "      <td>18.010000</td>\n",
              "      <td>19.085000</td>\n",
              "      <td>19.180000</td>\n",
              "      <td>18.920000</td>\n",
              "      <td>20.295000</td>\n",
              "      <td>2.328500e+01</td>\n",
              "      <td>2.451000e+01</td>\n",
              "      <td>19.640000</td>\n",
              "      <td>19.410000</td>\n",
              "      <td>17.665000</td>\n",
              "      <td>17.855000</td>\n",
              "      <td>20.080000</td>\n",
              "      <td>18.690000</td>\n",
              "      <td>17.830000</td>\n",
              "      <td>19.435000</td>\n",
              "      <td>20.210000</td>\n",
              "      <td>20.085000</td>\n",
              "      <td>20.295000</td>\n",
              "      <td>20.920000</td>\n",
              "      <td>21.555000</td>\n",
              "      <td>21.055000</td>\n",
              "      <td>20.195000</td>\n",
              "      <td>19.950000</td>\n",
              "      <td>2.211000e+01</td>\n",
              "      <td>2.235000e+01</td>\n",
              "      <td>2.639500e+01</td>\n",
              "      <td>2.909000e+01</td>\n",
              "      <td>2.780000e+01</td>\n",
              "      <td>3.085500e+01</td>\n",
              "      <td>18.175000</td>\n",
              "      <td>18.770000</td>\n",
              "      <td>19.465000</td>\n",
              "      <td>20.280000</td>\n",
              "    </tr>\n",
              "    <tr>\n",
              "      <th>max</th>\n",
              "      <td>2.000000</td>\n",
              "      <td>1.439240e+06</td>\n",
              "      <td>1.453319e+06</td>\n",
              "      <td>1.468429e+06</td>\n",
              "      <td>1.495750e+06</td>\n",
              "      <td>1.510937e+06</td>\n",
              "      <td>1.508152e+06</td>\n",
              "      <td>1.465743e+06</td>\n",
              "      <td>1.416827e+06</td>\n",
              "      <td>1.342888e+06</td>\n",
              "      <td>1.263870e+06</td>\n",
              "      <td>1.178975e+06</td>\n",
              "      <td>1.082266e+06</td>\n",
              "      <td>1.003162e+06</td>\n",
              "      <td>914551.000000</td>\n",
              "      <td>833016.000000</td>\n",
              "      <td>760766.000000</td>\n",
              "      <td>690691.50000</td>\n",
              "      <td>634772.500000</td>\n",
              "      <td>600839.000000</td>\n",
              "      <td>580863.000000</td>\n",
              "      <td>580497.500000</td>\n",
              "      <td>597493.500000</td>\n",
              "      <td>625709.000000</td>\n",
              "      <td>738302.000000</td>\n",
              "      <td>835844.000000</td>\n",
              "      <td>854254.000000</td>\n",
              "      <td>1.412850e+06</td>\n",
              "      <td>1.412850e+06</td>\n",
              "      <td>1.412850e+06</td>\n",
              "      <td>1.565138e+06</td>\n",
              "      <td>1.935902e+06</td>\n",
              "      <td>2.299764e+06</td>\n",
              "      <td>1.412850e+06</td>\n",
              "      <td>1.440171e+06</td>\n",
              "      <td>1.465712e+06</td>\n",
              "      <td>1.484768e+06</td>\n",
              "      <td>1.488858e+06</td>\n",
              "      <td>1.485196e+06</td>\n",
              "      <td>1.466303e+06</td>\n",
              "      <td>...</td>\n",
              "      <td>3.512683e+06</td>\n",
              "      <td>4.016017e+06</td>\n",
              "      <td>4.127449e+06</td>\n",
              "      <td>555589.500000</td>\n",
              "      <td>549980.500000</td>\n",
              "      <td>452768.500000</td>\n",
              "      <td>354328.000000</td>\n",
              "      <td>275747.000000</td>\n",
              "      <td>265202.000000</td>\n",
              "      <td>248283.000000</td>\n",
              "      <td>344784.000000</td>\n",
              "      <td>880737.000000</td>\n",
              "      <td>2.154956e+06</td>\n",
              "      <td>3.191112e+06</td>\n",
              "      <td>509858.000000</td>\n",
              "      <td>485361.000000</td>\n",
              "      <td>416346.000000</td>\n",
              "      <td>351628.500000</td>\n",
              "      <td>316595.500000</td>\n",
              "      <td>251685.500000</td>\n",
              "      <td>212255.500000</td>\n",
              "      <td>181663.000000</td>\n",
              "      <td>183937.500000</td>\n",
              "      <td>220831.500000</td>\n",
              "      <td>313234.500000</td>\n",
              "      <td>251037.000000</td>\n",
              "      <td>297137.000000</td>\n",
              "      <td>338239.500000</td>\n",
              "      <td>674057.750000</td>\n",
              "      <td>840521.000000</td>\n",
              "      <td>1.779338e+06</td>\n",
              "      <td>2.379227e+06</td>\n",
              "      <td>2.992070e+06</td>\n",
              "      <td>3.434973e+06</td>\n",
              "      <td>3.481220e+06</td>\n",
              "      <td>3.616292e+06</td>\n",
              "      <td>288607.500000</td>\n",
              "      <td>215972.000000</td>\n",
              "      <td>207590.000000</td>\n",
              "      <td>211302.000000</td>\n",
              "    </tr>\n",
              "  </tbody>\n",
              "</table>\n",
              "<p>8 rows × 3198 columns</p>\n",
              "</div>"
            ],
            "text/plain": [
              "             LABEL        FLUX.1  ...      FLUX.3196      FLUX.3197\n",
              "count  5087.000000  5.087000e+03  ...    5087.000000    5087.000000\n",
              "mean      1.007273  1.445054e+02  ...    -440.239100    -300.536399\n",
              "std       0.084982  2.150669e+04  ...   16273.406292   14459.795577\n",
              "min       1.000000 -2.278563e+05  ... -700992.000000 -643170.000000\n",
              "25%       1.000000 -4.234000e+01  ...     -21.135000     -19.820000\n",
              "50%       1.000000 -7.100000e-01  ...       0.900000       1.430000\n",
              "75%       1.000000  4.825500e+01  ...      19.465000      20.280000\n",
              "max       2.000000  1.439240e+06  ...  207590.000000  211302.000000\n",
              "\n",
              "[8 rows x 3198 columns]"
            ]
          },
          "metadata": {},
          "execution_count": 5
        }
      ]
    },
    {
      "cell_type": "code",
      "metadata": {
        "id": "9aGcwb3Ax10u",
        "colab": {
          "base_uri": "https://localhost:8080/"
        },
        "outputId": "c86a5191-5cc2-48f5-fd51-d4f4b51289e0"
      },
      "source": [
        "# Check the number of rows and columns in the 'exo_train_df'.\n",
        "df.shape"
      ],
      "execution_count": null,
      "outputs": [
        {
          "output_type": "execute_result",
          "data": {
            "text/plain": [
              "(5087, 3198)"
            ]
          },
          "metadata": {},
          "execution_count": 50
        }
      ]
    },
    {
      "cell_type": "markdown",
      "metadata": {
        "id": "OW6N0e0dn9jq"
      },
      "source": [
        "---"
      ]
    },
    {
      "cell_type": "markdown",
      "metadata": {
        "id": "6kr-OIofEvrC"
      },
      "source": [
        "#### Check For The Missing Values\n"
      ]
    },
    {
      "cell_type": "code",
      "metadata": {
        "colab": {
          "base_uri": "https://localhost:8080/"
        },
        "id": "TiE2GEPC-IuR",
        "outputId": "ff540db1-d197-417c-b4e3-dbcb440151b7"
      },
      "source": [
        "df.columns"
      ],
      "execution_count": null,
      "outputs": [
        {
          "output_type": "execute_result",
          "data": {
            "text/plain": [
              "Index(['LABEL', 'FLUX.1', 'FLUX.2', 'FLUX.3', 'FLUX.4', 'FLUX.5', 'FLUX.6',\n",
              "       'FLUX.7', 'FLUX.8', 'FLUX.9',\n",
              "       ...\n",
              "       'FLUX.3188', 'FLUX.3189', 'FLUX.3190', 'FLUX.3191', 'FLUX.3192',\n",
              "       'FLUX.3193', 'FLUX.3194', 'FLUX.3195', 'FLUX.3196', 'FLUX.3197'],\n",
              "      dtype='object', length=3198)"
            ]
          },
          "metadata": {},
          "execution_count": 13
        }
      ]
    },
    {
      "cell_type": "code",
      "metadata": {
        "colab": {
          "base_uri": "https://localhost:8080/"
        },
        "id": "GQ_wjujv9-9K",
        "outputId": "4b842049-9d98-418c-c7f8-49fb0688eb87"
      },
      "source": [
        "c=0\n",
        "for i in  df.columns:\n",
        "  for item in df[i].isnull():\n",
        "    if item==False:\n",
        "      c+=1\n",
        "c"
      ],
      "execution_count": null,
      "outputs": [
        {
          "output_type": "execute_result",
          "data": {
            "text/plain": [
              "16268226"
            ]
          },
          "metadata": {},
          "execution_count": 49
        }
      ]
    },
    {
      "cell_type": "code",
      "metadata": {
        "id": "dHjOAaq-IU_c",
        "colab": {
          "base_uri": "https://localhost:8080/"
        },
        "outputId": "10e0e0ff-6b6d-4545-e653-0ebb8411481d"
      },
      "source": [
        "# Find the total number of missing values in the 'exo_train_df'.\n",
        "df.isnull().sum()"
      ],
      "execution_count": null,
      "outputs": [
        {
          "output_type": "execute_result",
          "data": {
            "text/plain": [
              "LABEL        0\n",
              "FLUX.1       0\n",
              "FLUX.2       0\n",
              "FLUX.3       0\n",
              "FLUX.4       0\n",
              "            ..\n",
              "FLUX.3193    0\n",
              "FLUX.3194    0\n",
              "FLUX.3195    0\n",
              "FLUX.3196    0\n",
              "FLUX.3197    0\n",
              "Length: 3198, dtype: int64"
            ]
          },
          "metadata": {},
          "execution_count": 12
        }
      ]
    },
    {
      "cell_type": "markdown",
      "metadata": {
        "id": "Tts_SnCSJW2z"
      },
      "source": [
        "There are no missing values in the DataFrame."
      ]
    },
    {
      "cell_type": "markdown",
      "metadata": {
        "id": "uZDCZAklQ2Fe"
      },
      "source": [
        "---"
      ]
    },
    {
      "cell_type": "markdown",
      "metadata": {
        "id": "llwHgQbDLLT8"
      },
      "source": [
        "#### Slicing A DataFrame Using The `iloc[]` Function\n",
        "Create Pandas series for the first 3 stars and the last 3 stars in the DataFrame."
      ]
    },
    {
      "cell_type": "markdown",
      "metadata": {
        "id": "l1bpbkBnLU_1"
      },
      "source": [
        "**Syntax:** \n",
        "\n",
        "`dataframe_name.iloc[row_position_start : row_position_end, column_position_start : column_position_end]`\n",
        "\n",
        "In this syntax: \n",
        "\n",
        "- `row_position_start` denotes the position of the row in the DataFrame **starting** from whose values you want to take in the new Pandas series or DataFrame.\n",
        "- `row_position_end` denotes the position of the row in the DataFrame till whose values you want to take in the new Pandas series or DataFrame.\n",
        "- `column_position_start` denotes the position of the column in the DataFrame **starting** from whose values you want to take in the new Pandas series or DataFrame.\n",
        "- `column_position_end` denotes the position of the column in the DataFrame till whose values you want to take in the new Pandas series or DataFrame.\n",
        "\n",
        "You can verify manually whether we have extracted the values from the first row or not by viewing the first 5 rows of the DataFrame using the `head()` function."
      ]
    },
    {
      "cell_type": "code",
      "metadata": {
        "id": "-bERYJF3JpFR",
        "colab": {
          "base_uri": "https://localhost:8080/"
        },
        "outputId": "08b28303-2bb7-4082-fcbf-6efcb3f28ba7"
      },
      "source": [
        "# Create a Pandas series for the first star and store it in a variable called 'star_0'.\n",
        "star_0 =df.iloc[0, :]\n",
        "star_0.head()"
      ],
      "execution_count": null,
      "outputs": [
        {
          "output_type": "execute_result",
          "data": {
            "text/plain": [
              "LABEL      2.00\n",
              "FLUX.1    93.85\n",
              "FLUX.2    83.81\n",
              "FLUX.3    20.10\n",
              "FLUX.4   -26.98\n",
              "Name: 0, dtype: float64"
            ]
          },
          "metadata": {},
          "execution_count": 14
        }
      ]
    },
    {
      "cell_type": "code",
      "metadata": {
        "colab": {
          "base_uri": "https://localhost:8080/"
        },
        "id": "QCCwwHfSz60j",
        "outputId": "a6acd9b6-969d-4043-d3ea-e985305ba885"
      },
      "source": [
        "type(star_0)"
      ],
      "execution_count": null,
      "outputs": [
        {
          "output_type": "execute_result",
          "data": {
            "text/plain": [
              "pandas.core.series.Series"
            ]
          },
          "metadata": {},
          "execution_count": 31
        }
      ]
    },
    {
      "cell_type": "code",
      "metadata": {
        "id": "5gKra1lEMLji",
        "colab": {
          "base_uri": "https://localhost:8080/"
        },
        "outputId": "c84febd1-4c7d-405a-960b-410702b98552"
      },
      "source": [
        "# Create a Pandas series for the second star and store it in a variable called 'star_1'.\n",
        "star_1=df.iloc[1,:]\n",
        "star_1.head()"
      ],
      "execution_count": null,
      "outputs": [
        {
          "output_type": "execute_result",
          "data": {
            "text/plain": [
              "LABEL      2.00\n",
              "FLUX.1   -38.88\n",
              "FLUX.2   -33.83\n",
              "FLUX.3   -58.54\n",
              "FLUX.4   -40.09\n",
              "Name: 1, dtype: float64"
            ]
          },
          "metadata": {},
          "execution_count": 16
        }
      ]
    },
    {
      "cell_type": "code",
      "metadata": {
        "id": "jn8St5flM0k3",
        "colab": {
          "base_uri": "https://localhost:8080/"
        },
        "outputId": "4fc3cd6c-ab02-4ee8-dd3c-db40a6bdd00c"
      },
      "source": [
        "# Create a Pandas series for the third star and store it in a variable called 'star_2'.\n",
        "star_2=df.iloc[2,:]\n",
        "star_2.head()"
      ],
      "execution_count": null,
      "outputs": [
        {
          "output_type": "execute_result",
          "data": {
            "text/plain": [
              "LABEL       2.00\n",
              "FLUX.1    532.64\n",
              "FLUX.2    535.92\n",
              "FLUX.3    513.73\n",
              "FLUX.4    496.92\n",
              "Name: 2, dtype: float64"
            ]
          },
          "metadata": {},
          "execution_count": 17
        }
      ]
    },
    {
      "cell_type": "code",
      "metadata": {
        "id": "_dOssdOlM-Lz",
        "colab": {
          "base_uri": "https://localhost:8080/"
        },
        "outputId": "f8c6f4b0-9c5d-4e9c-c21b-483f5ff8b82a"
      },
      "source": [
        "# Create a Pandas series for the last star and store it in a variable called 'star_5086'.\n",
        "star_5086=df.iloc[5086,:]\n",
        "star_5086.head()"
      ],
      "execution_count": null,
      "outputs": [
        {
          "output_type": "execute_result",
          "data": {
            "text/plain": [
              "LABEL       1.00\n",
              "FLUX.1    323.28\n",
              "FLUX.2    306.36\n",
              "FLUX.3    293.16\n",
              "FLUX.4    287.67\n",
              "Name: 5086, dtype: float64"
            ]
          },
          "metadata": {},
          "execution_count": 18
        }
      ]
    },
    {
      "cell_type": "markdown",
      "metadata": {
        "id": "rhDdZOPWvPPL"
      },
      "source": [
        "### Scatter and Line Plots of Flux\n",
        "\n",
        "Now plot the **Flux** values on the  $y-axis$ for each observation for a star. On $x-axis$, we will plot numbers ranging from `1` to `3197`.\n"
      ]
    },
    {
      "cell_type": "markdown",
      "metadata": {
        "id": "TafTxpURvwVu"
      },
      "source": [
        "#### Scatter And Line Plots For First 3 Stars^\n",
        "\n",
        "To make this plot, \n",
        "\n",
        "1. We first need to import a Python module named `matplotlib.pyplot` with `plt` as an alias. This module is exclusively designed for creating graphs such as bar graphs, histogram, line plot, scatter plot etc. We will learn more about this module as we go on in this course. \n",
        "\n",
        "  ```\n",
        "  import matplotlib.pyplot as plt\n",
        "  ```\n",
        "\n",
        "2. Then we need to call the `figure()` function from the `plt` module to resize the plot. The `figure()` function takes `figsize=(horizontal_width, vertical_height)` parameter as an input.  \n",
        "\n",
        "  ```\n",
        "  plt.figure(figsize=(16, 4))\n",
        "  ```\n",
        "\n",
        "3. Then we need either a Python list, a NumPy array or a Pandas series containing the numbers between `1` and `3197` to plot them on the $x-axis$.\n",
        "\n",
        "  ```\n",
        "  x_values_star_0 = np.arange(1, 3198)\n",
        "  ```\n",
        "\n",
        "4. Then we need `star_0` Pandas series to plot the `FLUX` values on the $y-axis$ for the first star in the DataFrame. \n",
        "\n",
        "  ```\n",
        "  y_values_star_0 = star_0[1:]\n",
        "  ```\n",
        "\n",
        "5. Then we need to call the `scatter()` function from the `plt` module with the required inputs as described in the third and the fourth steps.\n",
        "\n",
        "  ```\n",
        "  plt.scatter(x_values_star_0, y_values_star_0)\n",
        "  ```\n",
        "\n",
        "6. Finally, we need to call the `show()` function from the `plt` module.\n",
        "\n",
        "  ```\n",
        "  plt.show()\n",
        "  ```"
      ]
    },
    {
      "cell_type": "code",
      "metadata": {
        "id": "PCDF5bsQv8LA",
        "colab": {
          "base_uri": "https://localhost:8080/",
          "height": 232
        },
        "outputId": "f5dbf21e-2be5-402c-edd4-321e4830cf90"
      },
      "source": [
        "#Create a scatter plot for 'star_0' Pandas series.\n",
        "# 1. Import the 'numpy' and 'matplotlib.pyplot' modules.\n",
        "import numpy as np\n",
        "import matplotlib.pyplot as plt\n",
        "\n",
        "\n",
        "\n",
        "# 2. Call the 'figure()' function to resize the plot.\n",
        "plt.figure(figsize=(16,4))\n",
        "\n",
        "# Here, 16 means the plot is 16 units wide and 4 units high. Play with these numbers to draw different sized plots.\n",
        "# Call the 'scatter()' function to make a scatter plot between the x and y values.\n",
        "# The scatter() function requires two inputs: x and y where x is the data to be plotted on the x-axis and y is the data to be plotted on the y-axis.\n",
        "# In our case, x is a Pandas series of numbers between 1 and 3197 and y is the 'FLUX' values for a star.\n",
        "x_values_star0=np.arange(1,3198)\n",
        "y_values_star0=star_0[1:]\n",
        "plt.scatter(x_values_star0,y_values_star0)\n",
        "plt.show()\n",
        "\n",
        "\n",
        "\n",
        "# Here, star_0[1:] is a Pandas series containing all the 'FLUX' values starting from the value at index 1 till the value at last index, i.e., 3197\n",
        "# The 'arange(1, 3198)' function from the 'numpy' module will generate numbers from 1 to 3197.\n",
        "# 3. Call the 'scatter()' function.\n",
        "\n",
        "\n",
        "\n",
        "# 4. Call the 'show()' function.\n",
        "\n",
        "# The 'show()' function displays the plot."
      ],
      "execution_count": null,
      "outputs": [
        {
          "output_type": "display_data",
          "data": {
            "image/png": "[encoded data removed]",
            "text/plain": [
              "<Figure size 1152x288 with 1 Axes>"
            ]
          },
          "metadata": {
            "needs_background": "light"
          }
        }
      ]
    },
    {
      "cell_type": "code",
      "metadata": {
        "colab": {
          "base_uri": "https://localhost:8080/",
          "height": 284
        },
        "id": "GRp3coFYGB0Z",
        "outputId": "90fdcace-5981-4cdf-ca85-47c8753c24f2"
      },
      "source": [
        "#create a line plot for first star star_0\n",
        "plt.plot(x_values_star0,y_values_star0)\n"
      ],
      "execution_count": null,
      "outputs": [
        {
          "output_type": "execute_result",
          "data": {
            "text/plain": [
              "[<matplotlib.lines.Line2D at 0x7f7d0a7572d0>]"
            ]
          },
          "metadata": {},
          "execution_count": 37
        },
        {
          "output_type": "display_data",
          "data": {
            "image/png": "[encoded data removed]",
            "text/plain": [
              "<Figure size 432x288 with 1 Axes>"
            ]
          },
          "metadata": {
            "needs_background": "light"
          }
        }
      ]
    },
    {
      "cell_type": "code",
      "metadata": {
        "id": "88-pXddw9FPa",
        "colab": {
          "base_uri": "https://localhost:8080/",
          "height": 284
        },
        "outputId": "61e08513-2c6a-4070-bd85-0253a8da78c1"
      },
      "source": [
        "# Create a scatter plot for the second star, i.e., 'star_1'.\n",
        "y_values_star_1=star_1[1:]\n",
        "plt.scatter(x_values_star0,y_values_star_1)\n",
        "\n"
      ],
      "execution_count": null,
      "outputs": [
        {
          "output_type": "execute_result",
          "data": {
            "text/plain": [
              "<matplotlib.collections.PathCollection at 0x7f7d0a9d3310>"
            ]
          },
          "metadata": {},
          "execution_count": 38
        },
        {
          "output_type": "display_data",
          "data": {
            "image/png": "[encoded data removed]",
            "text/plain": [
              "<Figure size 432x288 with 1 Axes>"
            ]
          },
          "metadata": {
            "needs_background": "light"
          }
        }
      ]
    },
    {
      "cell_type": "markdown",
      "metadata": {
        "id": "pBVSUteAEoG7"
      },
      "source": [
        "The line plot also confirms the periodic downward-peaks in the `FLUX` values."
      ]
    },
    {
      "cell_type": "markdown",
      "metadata": {
        "id": "1rWYIu5GFjwi"
      },
      "source": [
        "It is quite difficult to spot any clear pattern in the scatter plot for the second star in the DataFrame. Let's draw a line plot to identify a pattern."
      ]
    },
    {
      "cell_type": "code",
      "metadata": {
        "id": "sxwzJm39FS9u",
        "colab": {
          "base_uri": "https://localhost:8080/",
          "height": 284
        },
        "outputId": "38c7c90a-71e2-41bc-e461-642aedac7a65"
      },
      "source": [
        "# Create a line plot for the second star, i.e., 'star_1'.\n",
        "\n",
        "plt.plot(x_values_star0,y_values_star_1)\n"
      ],
      "execution_count": null,
      "outputs": [
        {
          "output_type": "execute_result",
          "data": {
            "text/plain": [
              "[<matplotlib.lines.Line2D at 0x7f7d0b007810>]"
            ]
          },
          "metadata": {},
          "execution_count": 39
        },
        {
          "output_type": "display_data",
          "data": {
            "image/png": "[encoded data removed]",
            "text/plain": [
              "<Figure size 432x288 with 1 Axes>"
            ]
          },
          "metadata": {
            "needs_background": "light"
          }
        }
      ]
    },
    {
      "cell_type": "markdown",
      "metadata": {
        "id": "UdWk7oyjGIGr"
      },
      "source": [
        "As we can see, there are consistent sudden drops in the brightness levels for the second star in the DataFrame. This suggests that the planet is orbiting its star at very high radial speed. Also, the planet could be very close to the star.\n",
        "\n"
      ]
    },
    {
      "cell_type": "code",
      "metadata": {
        "id": "2BYfEIAfF5ti",
        "colab": {
          "base_uri": "https://localhost:8080/",
          "height": 284
        },
        "outputId": "033b765e-8203-43d0-8f49-cb2a9023b16b"
      },
      "source": [
        "#Create a scatter plot for the third star, i.e., 'star_2'.\n",
        "y_values_star_2=star_2[1:]\n",
        "plt.scatter(x_values_star0,y_values_star_2)\n"
      ],
      "execution_count": null,
      "outputs": [
        {
          "output_type": "execute_result",
          "data": {
            "text/plain": [
              "<matplotlib.collections.PathCollection at 0x7f7d0b10add0>"
            ]
          },
          "metadata": {},
          "execution_count": 40
        },
        {
          "output_type": "display_data",
          "data": {
            "image/png": "[encoded data removed]",
            "text/plain": [
              "<Figure size 432x288 with 1 Axes>"
            ]
          },
          "metadata": {
            "needs_background": "light"
          }
        }
      ]
    },
    {
      "cell_type": "markdown",
      "metadata": {
        "id": "2nkuVBD1HFV3"
      },
      "source": [
        "Here also, we can spot a clear repetitive downward-peaks which confirms that the star has at least one planet."
      ]
    },
    {
      "cell_type": "code",
      "metadata": {
        "id": "wp4onyg_G7XR",
        "colab": {
          "base_uri": "https://localhost:8080/",
          "height": 284
        },
        "outputId": "561bfdae-f854-4320-ea8d-482a3ca370d3"
      },
      "source": [
        "#Create a line plot for the third star, i.e, 'star_2'.\n",
        "plt.plot(x_values_star0,y_values_star_2)\n",
        "\n"
      ],
      "execution_count": null,
      "outputs": [
        {
          "output_type": "execute_result",
          "data": {
            "text/plain": [
              "[<matplotlib.lines.Line2D at 0x7f7d0a58ff10>]"
            ]
          },
          "metadata": {},
          "execution_count": 41
        },
        {
          "output_type": "display_data",
          "data": {
            "image/png": "[encoded data removed]",
            "text/plain": [
              "<Figure size 432x288 with 1 Axes>"
            ]
          },
          "metadata": {
            "needs_background": "light"
          }
        }
      ]
    },
    {
      "cell_type": "markdown",
      "metadata": {
        "id": "Wp5nDe1OHvIT"
      },
      "source": [
        "The line plot also confirms the repetitive downward-peak pattern."
      ]
    },
    {
      "cell_type": "markdown",
      "metadata": {
        "id": "mnFpvUBMHlP8"
      },
      "source": [
        "---"
      ]
    },
    {
      "cell_type": "markdown",
      "metadata": {
        "id": "Og8eM0cZHmix"
      },
      "source": [
        "#### Scatter Plots And Line Plots For 2nd Last  Star^^^\n",
        "Now, create the scatter plots and line plots for 2nd Last  Star or any star in the DataFrame which have been labelled or classified as `1`."
      ]
    },
    {
      "cell_type": "code",
      "metadata": {
        "id": "z8j8QSzkIv0Z",
        "colab": {
          "base_uri": "https://localhost:8080/",
          "height": 265
        },
        "outputId": "e7fd18ff-7490-4be0-e2f5-68bb22963ea5"
      },
      "source": [
        "# Create a scatter plot for the second-last star, i.e., 'star_5085' in the DataFrame.\n",
        "star_second_last=df.iloc[-2,:]\n",
        "y_values_second_last=star_second_last[1:]\n",
        "plt.scatter(x_values_star0,y_values_second_last)\n",
        "plt.show()"
      ],
      "execution_count": null,
      "outputs": [
        {
          "output_type": "display_data",
          "data": {
            "image/png": "[encoded data removed]",
            "text/plain": [
              "<Figure size 432x288 with 1 Axes>"
            ]
          },
          "metadata": {
            "needs_background": "light"
          }
        }
      ]
    },
    {
      "cell_type": "markdown",
      "metadata": {
        "id": "5-GG0-DYJ1Yq"
      },
      "source": [
        "There is no clear periodic downward-peak pattern in the `FLUX` values for the second-last star."
      ]
    },
    {
      "cell_type": "code",
      "metadata": {
        "id": "nhaIDUXdJvw8",
        "colab": {
          "base_uri": "https://localhost:8080/",
          "height": 265
        },
        "outputId": "af2e2426-0f99-4c40-b325-6a9869b0e1b6"
      },
      "source": [
        "# Student Action: Create a line plot for the second-last star in the DataFrame.\n",
        "\n",
        "plt.plot(x_values_star0,y_values_second_last)\n",
        "plt.show()"
      ],
      "execution_count": null,
      "outputs": [
        {
          "output_type": "display_data",
          "data": {
            "image/png": "[encoded data removed]",
            "text/plain": [
              "<Figure size 432x288 with 1 Axes>"
            ]
          },
          "metadata": {
            "needs_background": "light"
          }
        }
      ]
    },
    {
      "cell_type": "markdown",
      "metadata": {
        "id": "t9c82NMNKKl7"
      },
      "source": [
        "The line-plot also confirms that there is no clear periodic downward-peak pattern in the `FLUX` values."
      ]
    }
  ]
}