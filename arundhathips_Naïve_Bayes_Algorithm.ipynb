{
  "nbformat": 4,
  "nbformat_minor": 0,
  "metadata": {
    "colab": {
      "name": "arundhathips- Naïve Bayes Algorithm.ipynb",
      "provenance": [],
      "include_colab_link": true
    },
    "kernelspec": {
      "name": "python3",
      "display_name": "Python 3"
    },
    "language_info": {
      "name": "python"
    }
  },
  "cells": [
    {
      "cell_type": "markdown",
      "metadata": {
        "id": "view-in-github",
        "colab_type": "text"
      },
      "source": [
        "<a href=\"https://colab.research.google.com/github/arundhathips/DataScienceLab_arundhathi10/blob/main/arundhathips_Na%C3%AFve_Bayes_Algorithm.ipynb\" target=\"_parent\"><img src=\"https://colab.research.google.com/assets/colab-badge.svg\" alt=\"Open In Colab\"/></a>"
      ]
    },
    {
      "cell_type": "markdown",
      "source": [
        "Aim: Program to implement Naïve Bayes Algorithm using any standard dataset\n",
        "available in the public domain and find the accuracy of the algorithm"
      ],
      "metadata": {
        "id": "f4TwDjLCpTcn"
      }
    },
    {
      "cell_type": "markdown",
      "source": [
        "\n",
        "Short notes: Naive Bayes\n",
        "\n",
        "Bayes’ Theorem provides a way that we can calculate the probability of a piece of data belonging to a given class, given our prior knowledge. Bayes’ Theorem is stated as:\n",
        "\n",
        "P(class|data) = (P(data|class) * P(class)) / P(data)\n",
        "\n",
        "Where P(class|data) is the probability of class given the provided data."
      ],
      "metadata": {
        "id": "_23W0JVJq1-V"
      }
    },
    {
      "cell_type": "markdown",
      "source": [
        "We are using Iris Dataset. The Iris Flower Dataset involves predicting the flower species given measurements of iris flowers.\n",
        "\n",
        "It is a multiclass classification problem. The number of observations for each class is balanced. There are 150 observations with 4 input variables and 1 output variable. The variable names are as follows:\n",
        "\n",
        "Sepal length in cm.\n",
        "\n",
        "Sepal width in cm.\n",
        "\n",
        "Petal length in cm.\n",
        "\n",
        "Petal width in cm., and\n",
        "\n",
        "Class.\n",
        "\n",
        "Algorithm:\n",
        "\n",
        "Step 1: Separate By Class.\n",
        "\n",
        "Step 2: Summarize Dataset.\n",
        "\n",
        "Step 3: Summarize Data By Class.\n",
        "\n",
        "Step 4: Gaussian Probability Density Function.\n",
        "\n",
        "Step 5: Class Probabilities."
      ],
      "metadata": {
        "id": "Aq3NJZhGrENv"
      }
    },
    {
      "cell_type": "code",
      "source": [
        "#Import Modules\n",
        "from sklearn import neighbors, datasets, preprocessing\n",
        "from sklearn.model_selection import train_test_split\n",
        "from sklearn.metrics import accuracy_score\n",
        "from sklearn.neighbors import KNeighborsRegressor\n",
        "from sklearn.metrics import confusion_matrix,classification_report\n",
        "\n",
        "#Load iris dataset & do train_test_split \n",
        "iris=datasets.load_iris()\n",
        "X,y=iris.data[:, :], iris.target\n",
        "Xtrain,Xtest,y_train,y_test=train_test_split(X,y,stratify=y,random_state=0,train_size=0.7) \n",
        "\n"
      ],
      "metadata": {
        "id": "N3sWnWz_rxIR"
      },
      "execution_count": null,
      "outputs": []
    },
    {
      "cell_type": "code",
      "source": [
        "#Feature Scaling\n",
        "scaler=preprocessing.StandardScaler().fit(Xtrain)\n",
        "Xtrain=scaler.transform(Xtrain)\n",
        "Xtest=scaler.transform(Xtest)"
      ],
      "metadata": {
        "id": "Jq-Uyizutrxu"
      },
      "execution_count": null,
      "outputs": []
    },
    {
      "cell_type": "markdown",
      "source": [
        "In this step, we introduce the class GaussianNB that is used from the sklearn.naive_bayes library. Here, we have used a Gaussian model, there are several other models such as Bernoulli, Categorical and Multinomial. Here, we assign the GaussianNB class to the variable classifier and fit the X_train and y_train values to it for training purpose."
      ],
      "metadata": {
        "id": "fHscTWiVt8pC"
      }
    },
    {
      "cell_type": "code",
      "source": [
        "#Implement Naive Bayes\n",
        "from sklearn.naive_bayes import GaussianNB,BernoulliNB,CategoricalNB\n"
      ],
      "metadata": {
        "id": "u0z9mzISuBKw"
      },
      "execution_count": null,
      "outputs": []
    },
    {
      "cell_type": "code",
      "source": [
        "#Predict the values for test data  \n",
        "classifer=GaussianNB()\n",
        "classifer.fit(Xtrain,y_train)\n",
        "y_pred=classifer.predict(Xtest)\n",
        "\n",
        "\n",
        "# Display accuracy score & display confusion matrix & classification report\n",
        "print(accuracy_score(y_test,y_pred))\n",
        "print(confusion_matrix(y_test,y_pred))\n",
        "print(classification_report(y_test,y_pred))"
      ],
      "metadata": {
        "id": "hv382A48usEq",
        "colab": {
          "base_uri": "https://localhost:8080/"
        },
        "outputId": "7594ced9-1d06-43c8-cab7-14186538c9b0"
      },
      "execution_count": null,
      "outputs": [
        {
          "output_type": "stream",
          "name": "stdout",
          "text": [
            "0.9777777777777777\n",
            "[[15  0  0]\n",
            " [ 0 15  0]\n",
            " [ 0  1 14]]\n",
            "              precision    recall  f1-score   support\n",
            "\n",
            "           0       1.00      1.00      1.00        15\n",
            "           1       0.94      1.00      0.97        15\n",
            "           2       1.00      0.93      0.97        15\n",
            "\n",
            "    accuracy                           0.98        45\n",
            "   macro avg       0.98      0.98      0.98        45\n",
            "weighted avg       0.98      0.98      0.98        45\n",
            "\n"
          ]
        }
      ]
    },
    {
      "cell_type": "code",
      "source": [
        "#predict the value for test data\n",
        "classifer=BernoulliNB()\n",
        "classifer.fit(Xtrain,y_train)\n",
        "y_pred=classifer.predict(Xtest)\n",
        "\n",
        "#display accuracy score & display confussion matrix & classification report\n",
        "print(accuracy_score(y_test,y_pred))\n",
        "print(confusion_matrix(y_test,y_pred))\n",
        "print(classification_report(y_test,y_pred))"
      ],
      "metadata": {
        "colab": {
          "base_uri": "https://localhost:8080/"
        },
        "id": "zIs1ty_7z5-1",
        "outputId": "1ffcef0e-cc6f-4348-bd1c-f88b49911d04"
      },
      "execution_count": null,
      "outputs": [
        {
          "output_type": "stream",
          "name": "stdout",
          "text": [
            "0.7333333333333333\n",
            "[[15  0  0]\n",
            " [ 1  6  8]\n",
            " [ 0  3 12]]\n",
            "              precision    recall  f1-score   support\n",
            "\n",
            "           0       0.94      1.00      0.97        15\n",
            "           1       0.67      0.40      0.50        15\n",
            "           2       0.60      0.80      0.69        15\n",
            "\n",
            "    accuracy                           0.73        45\n",
            "   macro avg       0.73      0.73      0.72        45\n",
            "weighted avg       0.73      0.73      0.72        45\n",
            "\n"
          ]
        }
      ]
    },
    {
      "cell_type": "markdown",
      "source": [
        "From the above confusion matrix, we infer that, out of 45 test set data, 44 were correctly classified and only 1 was incorrectly classified. This gives us a high accuracy of 97.7%."
      ],
      "metadata": {
        "id": "JFg1mUCswAIp"
      }
    }
  ]
}